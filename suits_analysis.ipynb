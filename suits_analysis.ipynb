{
 "cells": [
  {
   "cell_type": "markdown",
   "metadata": {},
   "source": [
    "<div style=\"background-color: #000; padding: 20px; border-radius: 10px; display: inline-flex; align-items: center; overflow: hidden;\">\n",
    "    <span style=\"color: #ff0000; font-size: 40px; font-weight: bold; margin-right: 10px;\">SUITS ANALYSIS</span>\n",
    "    <img src=\"https://flxt.tmsimg.com/assets/p8630071_b_h8_bc.jpg\" style=\"height: 100px; vertical-align: middle;\">\n",
    "</div>\n"
   ]
  },
  {
   "cell_type": "markdown",
   "metadata": {},
   "source": [
    "<div style=\"background-color: #000; padding: 10px; border-radius: 10px; display: inline-flex; align-items: center; overflow: hidden;\">\n",
    "    <span style=\"color: #ff0000; font-size: 20px; font-weight: bold; margin-right: 10px;\">Introduction</span>\n",
    "</div>\n",
    "\n",
    "\n",
    "*Created by:* **Aaron Korsh**  \n",
    "*Premiere:* **June 23, 2011**, on **USA Network**\n",
    "\n",
    "*Suits* is an American television drama series that follows **Mike Ross** (*Patrick J. Adams*), who begins working as a law associate for **Harvey Specter** (*Gabriel Macht*), despite never attending law school. The core of the series focuses on their capability to close cases and keep Mike's secret hidden.\n",
    "\n",
    "**Seasons Renewal:**  \n",
    "- <span style=\"background-color: #FFFF00\">Eighth Season Announced:</span> January 30, 2018\n",
    "- <span style=\"background-color: #FFFF00\">Ninth and Final Season Announced:</span> January 2019, premiered on July 17, 2019\n",
    "\n",
    "During its run from June 23, 2011, to September 25, 2019, *Suits* aired 134 episodes over nine seasons."
   ]
  },
  {
   "cell_type": "markdown",
   "metadata": {},
   "source": [
    "<div style=\"background-color: #000; padding: 10px; border-radius: 10px; display: inline-flex; align-items: center; overflow: hidden;\">\n",
    "    <span style=\"color: #ff0000; font-size: 20px; font-weight: bold; margin-right: 10px;\">Load and Explore the data</span>\n",
    "</div>"
   ]
  },
  {
   "cell_type": "code",
   "execution_count": 4,
   "metadata": {},
   "outputs": [
    {
     "name": "stdout",
     "output_type": "stream",
     "text": [
      "   Sno  Episodes                   Title       Director          Writer  \\\n",
      "0    1         1                 \"Pilot\"     Kevin Bray     Aaron Korsh   \n",
      "1    2         2  \"Errors and Omissions\"     John Scott  Sean Jablonski   \n",
      "2    3         3          \"Inside Track\"     Kevin Bray     Aaron Korsh   \n",
      "3    4         4  \"Dirty Little Secrets\"  Dennie Gordon       Jon Cowan   \n",
      "4    5         5              \"Bail Out\"     Kate Woods    Ethan Drogin   \n",
      "\n",
      "        Air_date Seasons  Viewers  \n",
      "0  June 23, 2011      S1     4.64  \n",
      "1  June 30, 2011      S1     3.89  \n",
      "2   July 7, 2011      S1     4.53  \n",
      "3  July 14, 2011      S1     4.38  \n",
      "4  July 21, 2011      S1     4.38  \n",
      "     Sno  Episodes                 Title               Director  \\\n",
      "129  130         6   \"Whatever It Takes\"          Michael Smith   \n",
      "130  131         7        \"Scenic Route\"        Emile Levisetti   \n",
      "131  132         8  \"Prisoner's Dilemma\"          Julian Holmes   \n",
      "132  133         9        \"Thunder Away\"  Robert Duncan McNeill   \n",
      "133  134        10        \"One Last Con\"            Aaron Korsh   \n",
      "\n",
      "                 Writer            Air_date Seasons  Viewers  \n",
      "129        Ethan Drogin     August 21, 2019      S9     1.05  \n",
      "130      Garrett Schabb   September 4, 2019      S9     1.07  \n",
      "131        Ethan Drogin  September 11, 2019      S9     0.97  \n",
      "132  Genevieve Sparling  September 18, 2019      S9     0.96  \n",
      "133         Aaron Korsh  September 25, 2019      S9     0.86  \n"
     ]
    }
   ],
   "source": [
    "#Loading the data\n",
    "import pandas as pd\n",
    "import matplotlib.pyplot as plt\n",
    "\n",
    "\n",
    "suits= pd.read_csv(r\"E:\\University Content\\RR\\Assignment8\\RR_Assignment8\\suits_data.csv\")\n",
    "print(suits.head())\n",
    "print(suits.tail())"
   ]
  },
  {
   "cell_type": "code",
   "execution_count": 8,
   "metadata": {},
   "outputs": [
    {
     "name": "stdout",
     "output_type": "stream",
     "text": [
      "<class 'pandas.core.frame.DataFrame'>\n",
      "RangeIndex: 134 entries, 0 to 133\n",
      "Data columns (total 8 columns):\n",
      " #   Column    Non-Null Count  Dtype  \n",
      "---  ------    --------------  -----  \n",
      " 0   Sno       134 non-null    int64  \n",
      " 1   Episodes  134 non-null    int64  \n",
      " 2   Title     134 non-null    object \n",
      " 3   Director  134 non-null    object \n",
      " 4   Writer    134 non-null    object \n",
      " 5   Air_date  134 non-null    object \n",
      " 6   Seasons   134 non-null    object \n",
      " 7   Viewers   134 non-null    float64\n",
      "dtypes: float64(1), int64(2), object(5)\n",
      "memory usage: 8.5+ KB\n"
     ]
    }
   ],
   "source": [
    "suits.info()"
   ]
  },
  {
   "cell_type": "code",
   "execution_count": 31,
   "metadata": {},
   "outputs": [
    {
     "data": {
      "text/html": [
       "<div>\n",
       "<style scoped>\n",
       "    .dataframe tbody tr th:only-of-type {\n",
       "        vertical-align: middle;\n",
       "    }\n",
       "\n",
       "    .dataframe tbody tr th {\n",
       "        vertical-align: top;\n",
       "    }\n",
       "\n",
       "    .dataframe thead th {\n",
       "        text-align: right;\n",
       "    }\n",
       "</style>\n",
       "<table border=\"1\" class=\"dataframe\">\n",
       "  <thead>\n",
       "    <tr style=\"text-align: right;\">\n",
       "      <th></th>\n",
       "      <th>Sno</th>\n",
       "      <th>Episodes</th>\n",
       "      <th>Viewers</th>\n",
       "    </tr>\n",
       "  </thead>\n",
       "  <tbody>\n",
       "    <tr>\n",
       "      <th>count</th>\n",
       "      <td>134.000000</td>\n",
       "      <td>134.000000</td>\n",
       "      <td>134.000000</td>\n",
       "    </tr>\n",
       "    <tr>\n",
       "      <th>mean</th>\n",
       "      <td>67.500000</td>\n",
       "      <td>8.097015</td>\n",
       "      <td>2.180224</td>\n",
       "    </tr>\n",
       "    <tr>\n",
       "      <th>std</th>\n",
       "      <td>38.826537</td>\n",
       "      <td>4.523738</td>\n",
       "      <td>1.065726</td>\n",
       "    </tr>\n",
       "    <tr>\n",
       "      <th>min</th>\n",
       "      <td>1.000000</td>\n",
       "      <td>1.000000</td>\n",
       "      <td>0.690000</td>\n",
       "    </tr>\n",
       "    <tr>\n",
       "      <th>25%</th>\n",
       "      <td>34.250000</td>\n",
       "      <td>4.000000</td>\n",
       "      <td>1.272500</td>\n",
       "    </tr>\n",
       "    <tr>\n",
       "      <th>50%</th>\n",
       "      <td>67.500000</td>\n",
       "      <td>8.000000</td>\n",
       "      <td>1.870000</td>\n",
       "    </tr>\n",
       "    <tr>\n",
       "      <th>75%</th>\n",
       "      <td>100.750000</td>\n",
       "      <td>12.000000</td>\n",
       "      <td>2.862500</td>\n",
       "    </tr>\n",
       "    <tr>\n",
       "      <th>max</th>\n",
       "      <td>134.000000</td>\n",
       "      <td>16.000000</td>\n",
       "      <td>4.640000</td>\n",
       "    </tr>\n",
       "  </tbody>\n",
       "</table>\n",
       "</div>"
      ],
      "text/plain": [
       "              Sno    Episodes     Viewers\n",
       "count  134.000000  134.000000  134.000000\n",
       "mean    67.500000    8.097015    2.180224\n",
       "std     38.826537    4.523738    1.065726\n",
       "min      1.000000    1.000000    0.690000\n",
       "25%     34.250000    4.000000    1.272500\n",
       "50%     67.500000    8.000000    1.870000\n",
       "75%    100.750000   12.000000    2.862500\n",
       "max    134.000000   16.000000    4.640000"
      ]
     },
     "execution_count": 31,
     "metadata": {},
     "output_type": "execute_result"
    }
   ],
   "source": [
    "suits.describe()"
   ]
  },
  {
   "cell_type": "markdown",
   "metadata": {},
   "source": [
    "<div style=\"background-color: #000; padding: 10px; border-radius: 10px; display: inline-flex; align-items: center; overflow: hidden;\">\n",
    "    <span style=\"color: #ff0000; font-size: 20px; font-weight: bold; margin-right: 10px;\">Episode & Series Analysis</span>\n",
    "</div>"
   ]
  },
  {
   "cell_type": "code",
   "execution_count": 30,
   "metadata": {},
   "outputs": [
    {
     "name": "stdout",
     "output_type": "stream",
     "text": [
      "Total Seasons Count:  9\n"
     ]
    }
   ],
   "source": [
    "#Total numbers of Seasons:\n",
    "print(\"Total Seasons Count: \",suits[\"Seasons\"].nunique())"
   ]
  },
  {
   "cell_type": "code",
   "execution_count": 35,
   "metadata": {},
   "outputs": [
    {
     "name": "stdout",
     "output_type": "stream",
     "text": [
      "No. of Episodes in each season:\n",
      "\n",
      " S9    10\n",
      "S1    12\n",
      "S2    16\n",
      "S3    16\n",
      "S4    16\n",
      "S5    16\n",
      "S6    16\n",
      "S7    16\n",
      "S8    16\n",
      "Name: Seasons, dtype: int64\n"
     ]
    }
   ],
   "source": [
    "#Number of Episodes in each season:\n",
    "print(\"No. of Episodes in each season:\\n\\n\", suits[\"Seasons\"].value_counts().sort_values(ascending=True))"
   ]
  },
  {
   "cell_type": "markdown",
   "metadata": {},
   "source": [
    "First and last seasons has significantly less episodes as compared to other seasons which has 16 episodes in each series."
   ]
  },
  {
   "cell_type": "markdown",
   "metadata": {},
   "source": [
    "<div style=\"background-color: #000; padding: 10px; border-radius: 10px; display: inline-flex; align-items: center; overflow: hidden;\">\n",
    "    <span style=\"color: #ff0000; font-size: 20px; font-weight: bold; margin-right: 10px;\">Exploring the Top 5 Directors' & Writers' Impact on the Series</span>\n",
    "</div>"
   ]
  },
  {
   "cell_type": "code",
   "execution_count": 22,
   "metadata": {},
   "outputs": [
    {
     "data": {
      "text/plain": [
       "Michael Smith          16\n",
       "Anton Cropper          16\n",
       "Christopher Misiano    15\n",
       "Kevin Bray             12\n",
       "Roger Kumble           12\n",
       "Name: Director, dtype: int64"
      ]
     },
     "execution_count": 22,
     "metadata": {},
     "output_type": "execute_result"
    }
   ],
   "source": [
    "# Top 5 Director\n",
    "suits[\"Director\"].value_counts().head(5)"
   ]
  },
  {
   "cell_type": "code",
   "execution_count": 21,
   "metadata": {},
   "outputs": [
    {
     "data": {
      "text/plain": [
       "Genevieve Sparling    16\n",
       "Aaron Korsh           15\n",
       "Ethan Drogin          13\n",
       "Rick Muirragui        12\n",
       "Daniel Arkin          11\n",
       "Name: Writer, dtype: int64"
      ]
     },
     "execution_count": 21,
     "metadata": {},
     "output_type": "execute_result"
    }
   ],
   "source": [
    "#Top 5 Writers\n",
    "suits[\"Writer\"].value_counts().head(5)"
   ]
  },
  {
   "cell_type": "markdown",
   "metadata": {},
   "source": [
    "<div style=\"background-color: #000; padding: 10px; border-radius: 10px; display: inline-flex; align-items: center; overflow: hidden;\">\n",
    "    <span style=\"color: #ff0000; font-size: 20px; font-weight: bold; margin-right: 10px;\">Perform trend of the Viewers with Time</span>\n",
    "</div>"
   ]
  },
  {
   "cell_type": "code",
   "execution_count": 39,
   "metadata": {},
   "outputs": [
    {
     "data": {
      "text/html": [
       "<div>\n",
       "<style scoped>\n",
       "    .dataframe tbody tr th:only-of-type {\n",
       "        vertical-align: middle;\n",
       "    }\n",
       "\n",
       "    .dataframe tbody tr th {\n",
       "        vertical-align: top;\n",
       "    }\n",
       "\n",
       "    .dataframe thead th {\n",
       "        text-align: right;\n",
       "    }\n",
       "</style>\n",
       "<table border=\"1\" class=\"dataframe\">\n",
       "  <thead>\n",
       "    <tr style=\"text-align: right;\">\n",
       "      <th></th>\n",
       "      <th>Sno</th>\n",
       "      <th>Episodes</th>\n",
       "      <th>Title</th>\n",
       "      <th>Director</th>\n",
       "      <th>Writer</th>\n",
       "      <th>Air_date</th>\n",
       "      <th>Seasons</th>\n",
       "      <th>Viewers</th>\n",
       "    </tr>\n",
       "  </thead>\n",
       "  <tbody>\n",
       "    <tr>\n",
       "      <th>0</th>\n",
       "      <td>1</td>\n",
       "      <td>1</td>\n",
       "      <td>\"Pilot\"</td>\n",
       "      <td>Kevin Bray</td>\n",
       "      <td>Aaron Korsh</td>\n",
       "      <td>2011-06-23</td>\n",
       "      <td>S1</td>\n",
       "      <td>4.64</td>\n",
       "    </tr>\n",
       "    <tr>\n",
       "      <th>1</th>\n",
       "      <td>2</td>\n",
       "      <td>2</td>\n",
       "      <td>\"Errors and Omissions\"</td>\n",
       "      <td>John Scott</td>\n",
       "      <td>Sean Jablonski</td>\n",
       "      <td>2011-06-30</td>\n",
       "      <td>S1</td>\n",
       "      <td>3.89</td>\n",
       "    </tr>\n",
       "    <tr>\n",
       "      <th>2</th>\n",
       "      <td>3</td>\n",
       "      <td>3</td>\n",
       "      <td>\"Inside Track\"</td>\n",
       "      <td>Kevin Bray</td>\n",
       "      <td>Aaron Korsh</td>\n",
       "      <td>2011-07-07</td>\n",
       "      <td>S1</td>\n",
       "      <td>4.53</td>\n",
       "    </tr>\n",
       "    <tr>\n",
       "      <th>3</th>\n",
       "      <td>4</td>\n",
       "      <td>4</td>\n",
       "      <td>\"Dirty Little Secrets\"</td>\n",
       "      <td>Dennie Gordon</td>\n",
       "      <td>Jon Cowan</td>\n",
       "      <td>2011-07-14</td>\n",
       "      <td>S1</td>\n",
       "      <td>4.38</td>\n",
       "    </tr>\n",
       "    <tr>\n",
       "      <th>4</th>\n",
       "      <td>5</td>\n",
       "      <td>5</td>\n",
       "      <td>\"Bail Out\"</td>\n",
       "      <td>Kate Woods</td>\n",
       "      <td>Ethan Drogin</td>\n",
       "      <td>2011-07-21</td>\n",
       "      <td>S1</td>\n",
       "      <td>4.38</td>\n",
       "    </tr>\n",
       "  </tbody>\n",
       "</table>\n",
       "</div>"
      ],
      "text/plain": [
       "   Sno  Episodes                   Title       Director          Writer  \\\n",
       "0    1         1                 \"Pilot\"     Kevin Bray     Aaron Korsh   \n",
       "1    2         2  \"Errors and Omissions\"     John Scott  Sean Jablonski   \n",
       "2    3         3          \"Inside Track\"     Kevin Bray     Aaron Korsh   \n",
       "3    4         4  \"Dirty Little Secrets\"  Dennie Gordon       Jon Cowan   \n",
       "4    5         5              \"Bail Out\"     Kate Woods    Ethan Drogin   \n",
       "\n",
       "    Air_date Seasons  Viewers  \n",
       "0 2011-06-23      S1     4.64  \n",
       "1 2011-06-30      S1     3.89  \n",
       "2 2011-07-07      S1     4.53  \n",
       "3 2011-07-14      S1     4.38  \n",
       "4 2011-07-21      S1     4.38  "
      ]
     },
     "execution_count": 39,
     "metadata": {},
     "output_type": "execute_result"
    }
   ],
   "source": [
    "suits['Air_date'] = pd.to_datetime(suits['Air_date'])\n",
    "suits.head()"
   ]
  },
  {
   "cell_type": "code",
   "execution_count": 40,
   "metadata": {},
   "outputs": [],
   "source": [
    "suits = suits.sort_values(by='Air_date')"
   ]
  },
  {
   "cell_type": "code",
   "execution_count": 82,
   "metadata": {},
   "outputs": [
    {
     "data": {
      "image/png": "[encoded data removed]",
      "text/plain": [
       "<Figure size 800x400 with 1 Axes>"
      ]
     },
     "metadata": {},
     "output_type": "display_data"
    }
   ],
   "source": [
    "# Plotting the viewership Over time\n",
    "\n",
    "plt.figure(figsize=(8, 4))\n",
    "plt.plot(suits['Air_date'], suits['Viewers'], marker='o', linestyle='-', color='red')  # Red line\n",
    "\n",
    "# Setting the background color of the plot area to black\n",
    "ax = plt.gca()  \n",
    "ax.set_facecolor('black')\n",
    "\n",
    "# Setting the background color of the figure to black\n",
    "plt.gcf().set_facecolor('black')\n",
    "\n",
    "# Set the title and labels with white color to contrast against the black background\n",
    "plt.title('Viewership Over Time', color='white')\n",
    "plt.xlabel('Air Date', color='white')\n",
    "plt.ylabel('Viewers(mn)', color='white')\n",
    "plt.grid(True, color='white', linestyle=':', linewidth=0.5) \n",
    "\n",
    "# Change the color of the tick labels to white\n",
    "ax.tick_params(colors='white', which='both')  \n",
    "\n",
    "plt.tight_layout()\n",
    "plt.show()"
   ]
  },
  {
   "cell_type": "markdown",
   "metadata": {},
   "source": [
    "With time, the viewers count is reducing as it was above 4.5mn in 2011 wherein in 2020, it went down below 1mn viewers"
   ]
  },
  {
   "cell_type": "code",
   "execution_count": 79,
   "metadata": {},
   "outputs": [
    {
     "data": {
      "image/png": "[encoded data removed]",
      "text/plain": [
       "<Figure size 600x400 with 1 Axes>"
      ]
     },
     "metadata": {},
     "output_type": "display_data"
    }
   ],
   "source": [
    "# Average viewership for each season \n",
    "seasons_avg_viewers = suits.groupby('Seasons')['Viewers'].mean()\n",
    "\n",
    "# create the plot with the specified aesthetics.\n",
    "plt.figure(figsize=(6, 4))\n",
    "seasons_avg_viewers.plot(marker='o', linestyle='-', color='red')\n",
    "\n",
    "# Setting the background color of the plot area to black\n",
    "ax = plt.gca() \n",
    "ax.set_facecolor('black')\n",
    "\n",
    "# Setting the background color of the figure to black\n",
    "plt.gcf().set_facecolor('black')\n",
    "\n",
    "# Set the title and labels with white color to contrast against the black background\n",
    "plt.title('Average Viewership by Season', color='white')\n",
    "plt.xlabel('Season', color='white')\n",
    "plt.ylabel('Average Viewership', color='white')\n",
    "plt.grid(True, color='white', linestyle=':', linewidth=0.5)  # Set grid color to white\n",
    "\n",
    "# Change the color of the tick labels to white\n",
    "ax.tick_params(colors='white', which='both') \n",
    "\n",
    "plt.tight_layout()\n",
    "plt.show()"
   ]
  },
  {
   "cell_type": "code",
   "execution_count": 49,
   "metadata": {},
   "outputs": [
    {
     "data": {
      "text/plain": [
       "Seasons\n",
       "S1    4.162500\n",
       "S2    3.601250\n",
       "S3    2.722500\n",
       "S4    2.260000\n",
       "S5    2.012500\n",
       "S6    1.596875\n",
       "S7    1.303750\n",
       "S8    1.022500\n",
       "S9    0.989000\n",
       "Name: Viewers, dtype: float64"
      ]
     },
     "execution_count": 49,
     "metadata": {},
     "output_type": "execute_result"
    }
   ],
   "source": [
    "seasons_avg_viewers = suits.groupby('Seasons')['Viewers'].mean()\n",
    "seasons_avg_viewers"
   ]
  },
  {
   "cell_type": "markdown",
   "metadata": {},
   "source": [
    "<div style=\"background-color: #000; padding: 10px; border-radius: 10px; display: inline-flex; align-items: center; overflow: hidden;\">\n",
    "    <span style=\"color: #ff0000; font-size: 20px; font-weight: bold; margin-right: 10px;\">Growth rate of Viewership</span>\n",
    "</div>"
   ]
  },
  {
   "cell_type": "code",
   "execution_count": 52,
   "metadata": {},
   "outputs": [
    {
     "name": "stdout",
     "output_type": "stream",
     "text": [
      "         Average Viewership  Percentage Growth\n",
      "Seasons                                       \n",
      "S1                 4.162500           0.000000\n",
      "S2                 3.601250         -13.483483\n",
      "S3                 2.722500         -24.401250\n",
      "S4                 2.260000         -16.988062\n",
      "S5                 2.012500         -10.951327\n",
      "S6                 1.596875         -20.652174\n",
      "S7                 1.303750         -18.356164\n",
      "S8                 1.022500         -21.572387\n",
      "S9                 0.989000          -3.276284\n"
     ]
    }
   ],
   "source": [
    "# Average viewership for each season\n",
    "seasons_avg_viewers = suits.groupby('Seasons')['Viewers'].mean()\n",
    "\n",
    "# Percentage growth from one season to the next\n",
    "percent_growth = (seasons_avg_viewers.pct_change() * 100).fillna(0)\n",
    "\n",
    "# DataFrame to store average viewership and percentage growth\n",
    "data = {'Average Viewership': seasons_avg_viewers, 'Percentage Growth': percent_growth}\n",
    "avg_growth_df = pd.DataFrame(data)\n",
    "\n",
    "# Print the combined DataFrame\n",
    "print(avg_growth_df)"
   ]
  },
  {
   "cell_type": "markdown",
   "metadata": {},
   "source": [
    "We can see major drop in the viewers count is from Season2 to Season3 which is 24% and then consistent growth rate reduction started from Season6 to Season8 around 20% "
   ]
  },
  {
   "cell_type": "code",
   "execution_count": 61,
   "metadata": {},
   "outputs": [
    {
     "name": "stdout",
     "output_type": "stream",
     "text": [
      "Average growth rate from Season 1 to Season 3 based on viewership: -34.594594594594604\n"
     ]
    }
   ],
   "source": [
    "# Get the average viewership for Seasons 1 and 3\n",
    "avg_viewers_s1 = avg_growth_df.loc['S1', 'Average Viewership']\n",
    "avg_viewers_s3 = avg_growth_df.loc['S3', 'Average Viewership']\n",
    "\n",
    "# Calculate the average growth rate from Season 1 to Season 3\n",
    "avg_growth_rate_s1_to_s3 = ((avg_viewers_s3 - avg_viewers_s1) / avg_viewers_s1) * 100\n",
    "\n",
    "# Print the average growth rate\n",
    "print(\"Average growth rate from Season 1 to Season 3 based on viewership:\", avg_growth_rate_s1_to_s3)"
   ]
  },
  {
   "cell_type": "code",
   "execution_count": 60,
   "metadata": {},
   "outputs": [
    {
     "name": "stdout",
     "output_type": "stream",
     "text": [
      "Average growth rate from Season 3 to Season 5 based on average viewership: -26.078971533516988\n"
     ]
    }
   ],
   "source": [
    "# Get the average viewership for Seasons 3 and 5\n",
    "avg_viewers_s3 = avg_growth_df.loc['S3', 'Average Viewership']\n",
    "avg_viewers_s5 = avg_growth_df.loc['S5', 'Average Viewership']\n",
    "\n",
    "# Calculate the average growth rate from Season 3 to Season 5\n",
    "avg_growth_rate_s3_to_s5 = ((avg_viewers_s5 - avg_viewers_s3) / avg_viewers_s3) * 100\n",
    "\n",
    "# Print the average growth rate\n",
    "print(\"Average growth rate from Season 3 to Season 5 based on viewership:\", avg_growth_rate_s3_to_s5)"
   ]
  },
  {
   "cell_type": "code",
   "execution_count": 62,
   "metadata": {},
   "outputs": [
    {
     "name": "stdout",
     "output_type": "stream",
     "text": [
      "Average growth rate from Season 1 to Season 9 based on viewership: -76.24024024024024\n"
     ]
    }
   ],
   "source": [
    "# Get the average viewership for Seasons 1 and 9\n",
    "avg_viewers_s1 = avg_growth_df.loc['S1', 'Average Viewership']\n",
    "avg_viewers_s9 = avg_growth_df.loc['S9', 'Average Viewership']\n",
    "\n",
    "# Calculate the average growth rate from Season 1 to Season 9\n",
    "avg_growth_rate_s1_to_s9 = ((avg_viewers_s9 - avg_viewers_s1) / avg_viewers_s1) * 100\n",
    "\n",
    "# Print the average growth rate\n",
    "print(\"Average growth rate from Season 1 to Season 9 based on viewership:\", avg_growth_rate_s1_to_s9)"
   ]
  },
  {
   "cell_type": "markdown",
   "metadata": {},
   "source": [
    "<div style=\"background-color: #000; padding: 10px; border-radius: 10px; display: inline-flex; align-items: center; overflow: hidden;\">\n",
    "    <span style=\"color: #ff0000; font-size: 20px; font-weight: bold; margin-right: 10px;\">Conclusion</span>\n",
    "</div>"
   ]
  },
  {
   "cell_type": "markdown",
   "metadata": {},
   "source": [
    "- The TV series \"Suits\" aired for 9 seasons.\n",
    "- The show started with shorter seasons (fewer episodes) like 10 and expanded considerably by the end i.e 16.\n",
    "- There was a notable decline in viewership over time from S1 to S9, it was 76% dip in the viewers.\n",
    "- The major drop has been seen from S2 to S3 as 24% which was highest as compared to other season on season comparison.\n",
    "- Season 9 saw a less steep decline, indicating a core audience retention."
   ]
  }
 ],
 "metadata": {
  "kernelspec": {
   "display_name": "Python 3",
   "language": "python",
   "name": "python3"
  },
  "language_info": {
   "codemirror_mode": {
    "name": "ipython",
    "version": 3
   },
   "file_extension": ".py",
   "mimetype": "text/x-python",
   "name": "python",
   "nbconvert_exporter": "python",
   "pygments_lexer": "ipython3",
   "version": "3.9.13"
  }
 },
 "nbformat": 4,
 "nbformat_minor": 2
}
