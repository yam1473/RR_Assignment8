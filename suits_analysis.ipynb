{
 "cells": [
  {
   "cell_type": "markdown",
   "metadata": {},
   "source": [
    "<div style=\"padding: 20px; color: #fff; margin: 0; font-size: 40px; text-align: center; display: fill; border-radius: 10px; background-color: #45b3e0; overflow: hidden; font-weight: bold;\"> SUITS ANALYSIS </div>"
   ]
  },
  {
   "cell_type": "markdown",
   "metadata": {
    "vscode": {
     "languageId": "plaintext"
    }
   },
   "source": [
    "# **About Suits**\n",
    "\n",
    "**Created by:** *Aaron Korsh*  \n",
    "**Premiere:** *June 23, 2011*, on **USA Network**\n",
    "\n",
    "*Suits* is an American television drama series that follows **Mike Ross** (*Patrick J. Adams*), who begins working as a law associate for **Harvey Specter** (*Gabriel Macht*), despite never attending law school. The core of the series focuses on their capability to close cases and keep Mike's secret hidden.\n",
    "\n",
    "**Seasons Renewal:**  \n",
    "- <span style=\"background-color: #FFFF00\">Eighth Season Announced:</span> January 30, 2018\n",
    "- <span style=\"background-color: #FFFF00\">Ninth and Final Season Announced:</span> January 2019, premiered on July 17, 2019\n",
    "\n",
    "During its run from June 23, 2011, to September 25, 2019, *Suits* aired 134 episodes over nine seasons."
   ]
  },
  {
   "cell_type": "code",
   "execution_count": null,
   "metadata": {
    "vscode": {
     "languageId": "plaintext"
    }
   },
   "outputs": [],
   "source": []
  }
 ],
 "metadata": {
  "language_info": {
   "name": "python"
  }
 },
 "nbformat": 4,
 "nbformat_minor": 2
}
