{
 "cells": [
  {
   "cell_type": "markdown",
   "metadata": {},
   "source": [
    "<div style=\"background-color: #000; padding: 20px; border-radius: 10px; display: inline-flex; align-items: center; overflow: hidden;\">\n",
    "    <span style=\"color: #ff0000; font-size: 40px; font-weight: bold; margin-right: 10px;\">SUITS ANALYSIS</span>\n",
    "    <img src=\"https://flxt.tmsimg.com/assets/p8630071_b_h8_bc.jpg\" style=\"height: 100px; vertical-align: middle;\">\n",
    "</div>\n"
   ]
  },
  {
   "cell_type": "markdown",
   "metadata": {
    "vscode": {
     "languageId": "plaintext"
    }
   },
   "source": [
    "# **About Suits**\n",
    "\n",
    "**Created by:** *Aaron Korsh*  \n",
    "**Premiere:** *June 23, 2011*, on **USA Network**\n",
    "\n",
    "*Suits* is an American television drama series that follows **Mike Ross** (*Patrick J. Adams*), who begins working as a law associate for **Harvey Specter** (*Gabriel Macht*), despite never attending law school. The core of the series focuses on their capability to close cases and keep Mike's secret hidden.\n",
    "\n",
    "**Seasons Renewal:**  \n",
    "- <span style=\"background-color: #FFFF00\">Eighth Season Announced:</span> January 30, 2018\n",
    "- <span style=\"background-color: #FFFF00\">Ninth and Final Season Announced:</span> January 2019, premiered on July 17, 2019\n",
    "\n",
    "During its run from June 23, 2011, to September 25, 2019, *Suits* aired 134 episodes over nine seasons."
   ]
  },
  {
   "cell_type": "code",
   "execution_count": 4,
   "metadata": {},
   "outputs": [
    {
     "name": "stdout",
     "output_type": "stream",
     "text": [
      "   Sno  Episodes                   Title       Director          Writer  \\\n",
      "0    1         1                 \"Pilot\"     Kevin Bray     Aaron Korsh   \n",
      "1    2         2  \"Errors and Omissions\"     John Scott  Sean Jablonski   \n",
      "2    3         3          \"Inside Track\"     Kevin Bray     Aaron Korsh   \n",
      "3    4         4  \"Dirty Little Secrets\"  Dennie Gordon       Jon Cowan   \n",
      "4    5         5              \"Bail Out\"     Kate Woods    Ethan Drogin   \n",
      "\n",
      "        Air_date Seasons  Viewers  \n",
      "0  June 23, 2011      S1     4.64  \n",
      "1  June 30, 2011      S1     3.89  \n",
      "2   July 7, 2011      S1     4.53  \n",
      "3  July 14, 2011      S1     4.38  \n",
      "4  July 21, 2011      S1     4.38  \n",
      "     Sno  Episodes                 Title               Director  \\\n",
      "129  130         6   \"Whatever It Takes\"          Michael Smith   \n",
      "130  131         7        \"Scenic Route\"        Emile Levisetti   \n",
      "131  132         8  \"Prisoner's Dilemma\"          Julian Holmes   \n",
      "132  133         9        \"Thunder Away\"  Robert Duncan McNeill   \n",
      "133  134        10        \"One Last Con\"            Aaron Korsh   \n",
      "\n",
      "                 Writer            Air_date Seasons  Viewers  \n",
      "129        Ethan Drogin     August 21, 2019      S9     1.05  \n",
      "130      Garrett Schabb   September 4, 2019      S9     1.07  \n",
      "131        Ethan Drogin  September 11, 2019      S9     0.97  \n",
      "132  Genevieve Sparling  September 18, 2019      S9     0.96  \n",
      "133         Aaron Korsh  September 25, 2019      S9     0.86  \n"
     ]
    }
   ],
   "source": [
    "#Loading the data\n",
    "import pandas as pd\n",
    "\n",
    "suits= pd.read_csv(r\"E:\\University Content\\RR\\Assignment8\\RR_Assignment8\\suits_data.csv\")\n",
    "print(suits.head())\n",
    "print(suits.tail())"
   ]
  },
  {
   "cell_type": "code",
   "execution_count": 8,
   "metadata": {},
   "outputs": [
    {
     "name": "stdout",
     "output_type": "stream",
     "text": [
      "<class 'pandas.core.frame.DataFrame'>\n",
      "RangeIndex: 134 entries, 0 to 133\n",
      "Data columns (total 8 columns):\n",
      " #   Column    Non-Null Count  Dtype  \n",
      "---  ------    --------------  -----  \n",
      " 0   Sno       134 non-null    int64  \n",
      " 1   Episodes  134 non-null    int64  \n",
      " 2   Title     134 non-null    object \n",
      " 3   Director  134 non-null    object \n",
      " 4   Writer    134 non-null    object \n",
      " 5   Air_date  134 non-null    object \n",
      " 6   Seasons   134 non-null    object \n",
      " 7   Viewers   134 non-null    float64\n",
      "dtypes: float64(1), int64(2), object(5)\n",
      "memory usage: 8.5+ KB\n"
     ]
    }
   ],
   "source": [
    "suits.info()"
   ]
  },
  {
   "cell_type": "code",
   "execution_count": 31,
   "metadata": {},
   "outputs": [
    {
     "data": {
      "text/html": [
       "<div>\n",
       "<style scoped>\n",
       "    .dataframe tbody tr th:only-of-type {\n",
       "        vertical-align: middle;\n",
       "    }\n",
       "\n",
       "    .dataframe tbody tr th {\n",
       "        vertical-align: top;\n",
       "    }\n",
       "\n",
       "    .dataframe thead th {\n",
       "        text-align: right;\n",
       "    }\n",
       "</style>\n",
       "<table border=\"1\" class=\"dataframe\">\n",
       "  <thead>\n",
       "    <tr style=\"text-align: right;\">\n",
       "      <th></th>\n",
       "      <th>Sno</th>\n",
       "      <th>Episodes</th>\n",
       "      <th>Viewers</th>\n",
       "    </tr>\n",
       "  </thead>\n",
       "  <tbody>\n",
       "    <tr>\n",
       "      <th>count</th>\n",
       "      <td>134.000000</td>\n",
       "      <td>134.000000</td>\n",
       "      <td>134.000000</td>\n",
       "    </tr>\n",
       "    <tr>\n",
       "      <th>mean</th>\n",
       "      <td>67.500000</td>\n",
       "      <td>8.097015</td>\n",
       "      <td>2.180224</td>\n",
       "    </tr>\n",
       "    <tr>\n",
       "      <th>std</th>\n",
       "      <td>38.826537</td>\n",
       "      <td>4.523738</td>\n",
       "      <td>1.065726</td>\n",
       "    </tr>\n",
       "    <tr>\n",
       "      <th>min</th>\n",
       "      <td>1.000000</td>\n",
       "      <td>1.000000</td>\n",
       "      <td>0.690000</td>\n",
       "    </tr>\n",
       "    <tr>\n",
       "      <th>25%</th>\n",
       "      <td>34.250000</td>\n",
       "      <td>4.000000</td>\n",
       "      <td>1.272500</td>\n",
       "    </tr>\n",
       "    <tr>\n",
       "      <th>50%</th>\n",
       "      <td>67.500000</td>\n",
       "      <td>8.000000</td>\n",
       "      <td>1.870000</td>\n",
       "    </tr>\n",
       "    <tr>\n",
       "      <th>75%</th>\n",
       "      <td>100.750000</td>\n",
       "      <td>12.000000</td>\n",
       "      <td>2.862500</td>\n",
       "    </tr>\n",
       "    <tr>\n",
       "      <th>max</th>\n",
       "      <td>134.000000</td>\n",
       "      <td>16.000000</td>\n",
       "      <td>4.640000</td>\n",
       "    </tr>\n",
       "  </tbody>\n",
       "</table>\n",
       "</div>"
      ],
      "text/plain": [
       "              Sno    Episodes     Viewers\n",
       "count  134.000000  134.000000  134.000000\n",
       "mean    67.500000    8.097015    2.180224\n",
       "std     38.826537    4.523738    1.065726\n",
       "min      1.000000    1.000000    0.690000\n",
       "25%     34.250000    4.000000    1.272500\n",
       "50%     67.500000    8.000000    1.870000\n",
       "75%    100.750000   12.000000    2.862500\n",
       "max    134.000000   16.000000    4.640000"
      ]
     },
     "execution_count": 31,
     "metadata": {},
     "output_type": "execute_result"
    }
   ],
   "source": [
    "suits.describe()"
   ]
  },
  {
   "cell_type": "markdown",
   "metadata": {},
   "source": [
    "## Episode & Series Analysis"
   ]
  },
  {
   "cell_type": "code",
   "execution_count": 30,
   "metadata": {},
   "outputs": [
    {
     "name": "stdout",
     "output_type": "stream",
     "text": [
      "Total Seasons Count:  9\n"
     ]
    }
   ],
   "source": [
    "#Total numbers of Seasons:\n",
    "print(\"Total Seasons Count: \",suits[\"Seasons\"].nunique())"
   ]
  },
  {
   "cell_type": "code",
   "execution_count": 35,
   "metadata": {},
   "outputs": [
    {
     "name": "stdout",
     "output_type": "stream",
     "text": [
      "No. of Episodes in each season:\n",
      "\n",
      " S9    10\n",
      "S1    12\n",
      "S2    16\n",
      "S3    16\n",
      "S4    16\n",
      "S5    16\n",
      "S6    16\n",
      "S7    16\n",
      "S8    16\n",
      "Name: Seasons, dtype: int64\n"
     ]
    }
   ],
   "source": [
    "#Number of Episodes in each season:\n",
    "print(\"No. of Episodes in each season:\\n\\n\", suits[\"Seasons\"].value_counts().sort_values(ascending=True))"
   ]
  },
  {
   "cell_type": "markdown",
   "metadata": {},
   "source": [
    "First and last seasons has significantly less episodes as compared to other seasons which has 16 episodes in each series."
   ]
  },
  {
   "cell_type": "markdown",
   "metadata": {},
   "source": [
    "## Exploring the Top 5 Directors' & Writers' Impact on the Series"
   ]
  },
  {
   "cell_type": "code",
   "execution_count": 22,
   "metadata": {},
   "outputs": [
    {
     "data": {
      "text/plain": [
       "Michael Smith          16\n",
       "Anton Cropper          16\n",
       "Christopher Misiano    15\n",
       "Kevin Bray             12\n",
       "Roger Kumble           12\n",
       "Name: Director, dtype: int64"
      ]
     },
     "execution_count": 22,
     "metadata": {},
     "output_type": "execute_result"
    }
   ],
   "source": [
    "# Top 5 Director\n",
    "suits[\"Director\"].value_counts().head(5)"
   ]
  },
  {
   "cell_type": "code",
   "execution_count": 21,
   "metadata": {},
   "outputs": [
    {
     "data": {
      "text/plain": [
       "Genevieve Sparling    16\n",
       "Aaron Korsh           15\n",
       "Ethan Drogin          13\n",
       "Rick Muirragui        12\n",
       "Daniel Arkin          11\n",
       "Name: Writer, dtype: int64"
      ]
     },
     "execution_count": 21,
     "metadata": {},
     "output_type": "execute_result"
    }
   ],
   "source": [
    "#Top 5 Writers\n",
    "suits[\"Writer\"].value_counts().head(5)"
   ]
  },
  {
   "cell_type": "code",
   "execution_count": null,
   "metadata": {},
   "outputs": [],
   "source": []
  }
 ],
 "metadata": {
  "kernelspec": {
   "display_name": "Python 3",
   "language": "python",
   "name": "python3"
  },
  "language_info": {
   "codemirror_mode": {
    "name": "ipython",
    "version": 3
   },
   "file_extension": ".py",
   "mimetype": "text/x-python",
   "name": "python",
   "nbconvert_exporter": "python",
   "pygments_lexer": "ipython3",
   "version": "3.9.13"
  }
 },
 "nbformat": 4,
 "nbformat_minor": 2
}
